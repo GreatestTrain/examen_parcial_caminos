{
 "cells": [
  {
   "cell_type": "code",
   "execution_count": 115,
   "metadata": {},
   "outputs": [
    {
     "name": "stdout",
     "output_type": "stream",
     "text": [
      "The autoreload extension is already loaded. To reload it, use:\n",
      "  %reload_ext autoreload\n"
     ]
    }
   ],
   "source": [
    "%load_ext autoreload\n",
    "%autoreload 2"
   ]
  },
  {
   "cell_type": "code",
   "execution_count": 116,
   "metadata": {},
   "outputs": [],
   "source": [
    "import pandas as pd\n",
    "import numpy as np\n",
    "import matplotlib.pyplot as plt\n",
    "from geometry.angles import *\n",
    "from geometry.st import *\n",
    "from geometry.diag import *\n",
    "from geometry.pc import *"
   ]
  },
  {
   "cell_type": "code",
   "execution_count": 117,
   "metadata": {},
   "outputs": [],
   "source": [
    "D_final = 750"
   ]
  },
  {
   "cell_type": "code",
   "execution_count": 118,
   "metadata": {},
   "outputs": [
    {
     "data": {
      "text/plain": [
       "array([ 893.987, 2457.897])"
      ]
     },
     "execution_count": 118,
     "metadata": {},
     "output_type": "execute_result"
    }
   ],
   "source": [
    "# Coordenadas P_1\n",
    "p1n = 2_457.897\n",
    "p1e =   893.987\n",
    "pi1 = np.array((p1e, p1n), dtype=np.float_)\n",
    "pi1"
   ]
  },
  {
   "cell_type": "code",
   "execution_count": 119,
   "metadata": {},
   "outputs": [
    {
     "data": {
      "text/plain": [
       "array([1000.086, 2798.806])"
      ]
     },
     "execution_count": 119,
     "metadata": {},
     "output_type": "execute_result"
    }
   ],
   "source": [
    "# Coordenadas P_2\n",
    "p2n = 2_798.806\n",
    "p2e = 1_000.086\n",
    "pi2 = np.array((p2e, p2n), dtype=np.float_)\n",
    "pi2"
   ]
  },
  {
   "cell_type": "code",
   "execution_count": 120,
   "metadata": {},
   "outputs": [
    {
     "data": {
      "image/png": "[encoded data removed]",
      "text/plain": [
       "<Figure size 576x576 with 1 Axes>"
      ]
     },
     "metadata": {
      "needs_background": "light"
     },
     "output_type": "display_data"
    }
   ],
   "source": [
    "fig, ax = plt.subplots(figsize=(8,8))\n",
    "coordinates = np.stack((pi1, pi2), axis=1)\n",
    "ax.set_aspect(1)\n",
    "ax.scatter(*coordinates, c=\"blue\")\n",
    "ax.annotate('$P_i 1$', xy=pi1, xytext=pi1+25,\n",
    "            arrowprops=dict(facecolor='black', shrink=0.05))\n",
    "ax.annotate('$P_i 2$', xy=pi2, xytext=pi2+25,\n",
    "            arrowprops=dict(facecolor='black', shrink=0.05))\n",
    "plt.show()"
   ]
  },
  {
   "cell_type": "code",
   "execution_count": 121,
   "metadata": {},
   "outputs": [
    {
     "data": {
      "text/plain": [
       "(array([ 893.987, 2457.897]), array([1000.086, 2798.806]))"
      ]
     },
     "execution_count": 121,
     "metadata": {},
     "output_type": "execute_result"
    }
   ],
   "source": [
    "pi1, pi2"
   ]
  },
  {
   "cell_type": "code",
   "execution_count": 122,
   "metadata": {},
   "outputs": [],
   "source": [
    "Az_init = np.deg2rad(114.80789)"
   ]
  },
  {
   "cell_type": "code",
   "execution_count": 123,
   "metadata": {},
   "outputs": [
    {
     "data": {
      "text/plain": [
       "array([72.71261415])"
      ]
     },
     "execution_count": 123,
     "metadata": {},
     "output_type": "execute_result"
    }
   ],
   "source": [
    "angle_aux = angle_between_2(pi1, pi2)\n",
    "np.rad2deg(angle_aux)"
   ]
  },
  {
   "cell_type": "code",
   "execution_count": 124,
   "metadata": {},
   "outputs": [
    {
     "data": {
      "text/plain": [
       "array([72.71261415])"
      ]
     },
     "execution_count": 124,
     "metadata": {},
     "output_type": "execute_result"
    }
   ],
   "source": [
    "np.rad2deg(angle_between_2(pi1, pi2))"
   ]
  },
  {
   "cell_type": "code",
   "execution_count": 125,
   "metadata": {},
   "outputs": [
    {
     "data": {
      "text/plain": [
       "array([97.52050415])"
      ]
     },
     "execution_count": 125,
     "metadata": {},
     "output_type": "execute_result"
    }
   ],
   "source": [
    "angle_1 = angle_aux + Az_init - pi_2 \n",
    "np.rad2deg(angle_1)"
   ]
  },
  {
   "cell_type": "code",
   "execution_count": 126,
   "metadata": {},
   "outputs": [
    {
     "data": {
      "text/plain": [
       "array([85.90285415])"
      ]
     },
     "execution_count": 126,
     "metadata": {},
     "output_type": "execute_result"
    }
   ],
   "source": [
    "rumbo = np.deg2rad(76.80976)\n",
    "angle_2 = angle_aux + np.abs(rumbo - pi_2)\n",
    "np.rad2deg(angle_2)"
   ]
  },
  {
   "cell_type": "code",
   "execution_count": 127,
   "metadata": {},
   "outputs": [
    {
     "data": {
      "text/plain": [
       "array([[267.88      ,   1.70205389]])"
      ]
     },
     "execution_count": 127,
     "metadata": {},
     "output_type": "execute_result"
    }
   ],
   "source": [
    "radios_angulos_1 = np.array( [ (267.880, float(angle_1)) ] )\n",
    "radios_angulos_1"
   ]
  },
  {
   "cell_type": "code",
   "execution_count": 128,
   "metadata": {},
   "outputs": [
    {
     "data": {
      "text/plain": [
       "array([[98.979     ,  1.49928764]])"
      ]
     },
     "execution_count": 128,
     "metadata": {},
     "output_type": "execute_result"
    }
   ],
   "source": [
    "# Datos curva 2\n",
    "radios_angulos_2 = np.array( [ ( 98.979, float(angle_2)) ] )\n",
    "radios_angulos_2"
   ]
  },
  {
   "cell_type": "code",
   "execution_count": 129,
   "metadata": {},
   "outputs": [
    {
     "data": {
      "text/plain": [
       "array([305.5688757])"
      ]
     },
     "execution_count": 129,
     "metadata": {},
     "output_type": "execute_result"
    }
   ],
   "source": [
    "# primera subtangente\n",
    "st_1 = st_vec(radios_angulos_1)\n",
    "st_1"
   ]
  },
  {
   "cell_type": "code",
   "execution_count": 130,
   "metadata": {},
   "outputs": [
    {
     "data": {
      "text/plain": [
       "array([92.14265742])"
      ]
     },
     "execution_count": 130,
     "metadata": {},
     "output_type": "execute_result"
    }
   ],
   "source": [
    "# Segunda subtangente\n",
    "st_2 = st_vec(radios_angulos_2)\n",
    "st_2"
   ]
  },
  {
   "cell_type": "code",
   "execution_count": 131,
   "metadata": {},
   "outputs": [
    {
     "data": {
      "text/plain": [
       "-40.67379830340445"
      ]
     },
     "execution_count": 131,
     "metadata": {},
     "output_type": "execute_result"
    }
   ],
   "source": [
    "# checar si sale menor\n",
    "euclid_diff(pi1, pi2) - np.sum((st_1, st_2))"
   ]
  },
  {
   "cell_type": "code",
   "execution_count": 132,
   "metadata": {},
   "outputs": [
    {
     "data": {
      "text/plain": [
       "(array([ 893.987, 2457.897]), array([1000.086, 2798.806]))"
      ]
     },
     "execution_count": 132,
     "metadata": {},
     "output_type": "execute_result"
    }
   ],
   "source": [
    "pi1, pi2"
   ]
  },
  {
   "cell_type": "code",
   "execution_count": 133,
   "metadata": {},
   "outputs": [
    {
     "data": {
      "text/plain": [
       "array([72.71261415])"
      ]
     },
     "execution_count": 133,
     "metadata": {},
     "output_type": "execute_result"
    }
   ],
   "source": [
    "np.rad2deg(angle_between_2(pi1, pi2))"
   ]
  },
  {
   "cell_type": "code",
   "execution_count": 134,
   "metadata": {},
   "outputs": [],
   "source": [
    "def corregir_coordenada(p1, distancia, p2):\n",
    "    return coor_p_to_p(p1, distancia, az_between_2(p1, p2))\n",
    "pi2 = corregir_coordenada(pi1, D_final + st_1 + st_2, pi2)"
   ]
  },
  {
   "cell_type": "code",
   "execution_count": 135,
   "metadata": {},
   "outputs": [
    {
     "data": {
      "image/png": "[encoded data removed]",
      "text/plain": [
       "<Figure size 576x576 with 1 Axes>"
      ]
     },
     "metadata": {
      "needs_background": "light"
     },
     "output_type": "display_data"
    }
   ],
   "source": [
    "fig, ax = plt.subplots(figsize=(8,8))\n",
    "coordinates = np.stack((pi1, pi2), axis=1)\n",
    "ax.set_aspect(1)\n",
    "ax.scatter(*coordinates, c=\"blue\")\n",
    "ax.annotate('$P_i 1$', xy=pi1, xytext=pi2+25,\n",
    "            arrowprops=dict(facecolor='black', shrink=0.05))\n",
    "ax.annotate('$P_i 2$', xy=pi2, xytext=pi2+25,\n",
    "            arrowprops=dict(facecolor='black', shrink=0.05))\n",
    "plt.show()"
   ]
  },
  {
   "cell_type": "code",
   "execution_count": 140,
   "metadata": {},
   "outputs": [
    {
     "data": {
      "text/plain": [
       "array([18980.687     , 19436.63319489])"
      ]
     },
     "execution_count": 140,
     "metadata": {},
     "output_type": "execute_result"
    }
   ],
   "source": [
    "pc_1 = p_total(radios_angulos_1,ci=18_980.687)\n",
    "pc_1"
   ]
  },
  {
   "cell_type": "code",
   "execution_count": 136,
   "metadata": {},
   "outputs": [
    {
     "data": {
      "text/plain": [
       "array([ 616.61610918, 2586.10669823])"
      ]
     },
     "execution_count": 136,
     "metadata": {},
     "output_type": "execute_result"
    }
   ],
   "source": [
    "coor_1 = coor_p_to_p(pi1, length=st_1, azimut=Az_init+np.pi)\n",
    "coor_1"
   ]
  },
  {
   "cell_type": "code",
   "execution_count": 148,
   "metadata": {},
   "outputs": [],
   "source": [
    "gamma_1 = gamma(pc_1[0], pc_1[1])\n",
    "ll_ = ll(radios_angulos_1[0], gamma_1)\n",
    "coor_2 = coor_p_to_p(coor_1, length=ll_, azimut=Az_init - gamma_1)"
   ]
  },
  {
   "cell_type": "code",
   "execution_count": 153,
   "metadata": {},
   "outputs": [],
   "source": [
    "coor_2 = coor_p_to_p(pi1, length=st_1, azimut=az_between_2(pi1,pi2))"
   ]
  },
  {
   "cell_type": "code",
   "execution_count": 158,
   "metadata": {},
   "outputs": [],
   "source": [
    "coor_3 = coor_p_to_p(coor_2, length=D_final, azimut=az_between_2(pi1,pi2))"
   ]
  },
  {
   "cell_type": "code",
   "execution_count": 160,
   "metadata": {},
   "outputs": [],
   "source": [
    "coor_4 = coor_p_to_p(pi2, length=st_2, azimut=np.pi - rumbo)"
   ]
  },
  {
   "cell_type": "code",
   "execution_count": 163,
   "metadata": {},
   "outputs": [
    {
     "data": {
      "image/png": "[encoded data removed]",
      "text/plain": [
       "<Figure size 576x576 with 1 Axes>"
      ]
     },
     "metadata": {
      "needs_background": "light"
     },
     "output_type": "display_data"
    }
   ],
   "source": [
    "fig, ax = plt.subplots(figsize=(8,8))\n",
    "coordinates = np.stack((coor_1, pi1, pi2, coor_4), axis=1)\n",
    "ax.set_aspect(1)\n",
    "ax.plot(*coordinates, c=\"blue\")\n",
    "cc = np.stack((coor_1, coor_2, coor_3, coor_4), axis=1)\n",
    "ax.plot(*cc, \"o-\", c=\"red\")\n",
    "ax.annotate('$P_i 1$', xy=pi1, xytext=pi1+25,\n",
    "            arrowprops=dict(facecolor='black', shrink=0.05))\n",
    "ax.annotate('$P_i 2$', xy=pi2, xytext=pi2+25,\n",
    "            arrowprops=dict(facecolor='black', shrink=0.05))\n",
    "plt.show()"
   ]
  },
  {
   "cell_type": "code",
   "execution_count": 157,
   "metadata": {},
   "outputs": [
    {
     "data": {
      "text/plain": [
       "array([66.04763792])"
      ]
     },
     "execution_count": 157,
     "metadata": {},
     "output_type": "execute_result"
    }
   ],
   "source": [
    "np.rad2deg(az_between_2(coor_1,coor_2))"
   ]
  },
  {
   "cell_type": "code",
   "execution_count": 152,
   "metadata": {},
   "outputs": [
    {
     "data": {
      "text/plain": [
       "97.52050415111376"
      ]
     },
     "execution_count": 152,
     "metadata": {},
     "output_type": "execute_result"
    }
   ],
   "source": [
    "np.rad2deg(radios_angulos_1[0,1])"
   ]
  }
 ],
 "metadata": {
  "kernelspec": {
   "display_name": "Python 3.10.6 ('ds')",
   "language": "python",
   "name": "python3"
  },
  "language_info": {
   "codemirror_mode": {
    "name": "ipython",
    "version": 3
   },
   "file_extension": ".py",
   "mimetype": "text/x-python",
   "name": "python",
   "nbconvert_exporter": "python",
   "pygments_lexer": "ipython3",
   "version": "3.10.6"
  },
  "orig_nbformat": 4,
  "vscode": {
   "interpreter": {
    "hash": "71dda1f36ff01dd8280b241c9bbd2200903794e3fcef25f2dfa7d2687b44f136"
   }
  }
 },
 "nbformat": 4,
 "nbformat_minor": 2
}
