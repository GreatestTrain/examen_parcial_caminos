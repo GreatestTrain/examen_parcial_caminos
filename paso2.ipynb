{
 "cells": [
  {
   "cell_type": "code",
   "execution_count": 81,
   "metadata": {},
   "outputs": [
    {
     "name": "stdout",
     "output_type": "stream",
     "text": [
      "The autoreload extension is already loaded. To reload it, use:\n",
      "  %reload_ext autoreload\n"
     ]
    }
   ],
   "source": [
    "%load_ext autoreload\n",
    "%autoreload 2"
   ]
  },
  {
   "cell_type": "code",
   "execution_count": 82,
   "metadata": {},
   "outputs": [],
   "source": [
    "import pandas as pd\n",
    "import numpy as np\n",
    "import matplotlib.pyplot as plt"
   ]
  },
  {
   "cell_type": "code",
   "execution_count": 83,
   "metadata": {},
   "outputs": [
    {
     "data": {
      "text/plain": [
       "array([ 893.987, 2457.897])"
      ]
     },
     "execution_count": 83,
     "metadata": {},
     "output_type": "execute_result"
    }
   ],
   "source": [
    "# Coordenadas P_1\n",
    "p1n = 2_457.897\n",
    "p1e =   893.987\n",
    "pi1 = np.array((p1e, p1n), dtype=np.float_)\n",
    "pi1"
   ]
  },
  {
   "cell_type": "code",
   "execution_count": 84,
   "metadata": {},
   "outputs": [
    {
     "data": {
      "text/plain": [
       "array([1000.086, 2798.806])"
      ]
     },
     "execution_count": 84,
     "metadata": {},
     "output_type": "execute_result"
    }
   ],
   "source": [
    "# Coordenadas P_2\n",
    "p2n = 2_798.806\n",
    "p2e = 1_000.086\n",
    "pi2 = np.array((p2e, p2n), dtype=np.float_)\n",
    "pi2"
   ]
  },
  {
   "cell_type": "code",
   "execution_count": 85,
   "metadata": {},
   "outputs": [],
   "source": [
    "pi_2 = np.pi / 2\n",
    "def pendiente(initial_point, final_point):\n",
    "    return np.diff(np.stack((initial_point, final_point), axis=1), axis=1)\n",
    "def angle(initial_point, final_point):\n",
    "    pendiente_ = pendiente(initial_point, final_point)\n",
    "    return np.arctan(pendiente_[1] / pendiente_[0])\n",
    "def azimut_between_2_points(initial_point, final_point):\n",
    "    return pi_2 - angle(initial_point, final_point)\n",
    "def diferencia_pitagorica(initial_point, final_point):\n",
    "    array = pendiente(initial_point, final_point)\n",
    "    return np.sqrt(np.sum(array**2))"
   ]
  },
  {
   "cell_type": "code",
   "execution_count": 86,
   "metadata": {},
   "outputs": [
    {
     "data": {
      "text/plain": [
       "array([72.71261415])"
      ]
     },
     "execution_count": 86,
     "metadata": {},
     "output_type": "execute_result"
    }
   ],
   "source": [
    "angle_1 = angle(pi1, pi2)\n",
    "np.rad2deg(angle_1)"
   ]
  },
  {
   "cell_type": "code",
   "execution_count": 87,
   "metadata": {},
   "outputs": [
    {
     "data": {
      "text/plain": [
       "array([17.28738585])"
      ]
     },
     "execution_count": 87,
     "metadata": {},
     "output_type": "execute_result"
    }
   ],
   "source": [
    "az_rect = azimut_between_2_points(pi1, pi2)\n",
    "np.rad2deg(az_rect)"
   ]
  },
  {
   "cell_type": "code",
   "execution_count": 88,
   "metadata": {},
   "outputs": [],
   "source": [
    "fig, ax = plt.subplots(figsize=(8,8))\n",
    "coordinates = np.stack((pi1, pi2), axis=1)\n",
    "ax.set_aspect(1)\n",
    "ax.scatter(*coordinates, c=\"blue\")\n",
    "ax.annotate('$P_i 1$', xy=pi1, xytext=pi1+20000,\n",
    "            arrowprops=dict(facecolor='black', shrink=0.05))\n",
    "ax.annotate('$P_i 2$', xy=pi2, xytext=pi2+20000,\n",
    "            arrowprops=dict(facecolor='black', shrink=0.05))\n",
    "plt.show()"
   ]
  },
  {
   "cell_type": "code",
   "execution_count": null,
   "metadata": {},
   "outputs": [],
   "source": [
    "# from geometry.module import *\n",
    "from geometry.st import *\n",
    "from geometry.diag import *\n",
    "from geometry.pc import *"
   ]
  },
  {
   "cell_type": "code",
   "execution_count": null,
   "metadata": {},
   "outputs": [
    {
     "name": "stdout",
     "output_type": "stream",
     "text": [
      "[17.28738585]\n"
     ]
    }
   ],
   "source": [
    "Az_init = np.deg2rad(114.80789)\n",
    "angle_temp1 = Az_init - pi_2 + angle_1\n",
    "# print(np.rad2deg(angle_temp1))\n",
    "Az_2 = azimut_between_2_points(pi1, pi2)\n",
    "print(np.rad2deg(Az_2))"
   ]
  },
  {
   "cell_type": "code",
   "execution_count": null,
   "metadata": {},
   "outputs": [
    {
     "data": {
      "text/plain": [
       "114.80789000000001"
      ]
     },
     "execution_count": 74,
     "metadata": {},
     "output_type": "execute_result"
    }
   ],
   "source": [
    "np.rad2deg(Az_init)"
   ]
  },
  {
   "cell_type": "code",
   "execution_count": null,
   "metadata": {},
   "outputs": [
    {
     "data": {
      "text/plain": [
       "array([[267.88      ,   1.70205389]])"
      ]
     },
     "execution_count": 28,
     "metadata": {},
     "output_type": "execute_result"
    }
   ],
   "source": [
    "# Datos curva 1\n",
    "radios_angulos_1 = np.array(\n",
    "    [\n",
    "        (267.880, float(angle_temp1)),\n",
    "    ]\n",
    ")\n",
    "radios_angulos_1"
   ]
  },
  {
   "cell_type": "code",
   "execution_count": null,
   "metadata": {},
   "outputs": [
    {
     "name": "stdout",
     "output_type": "stream",
     "text": [
      "97.52050415111374\n"
     ]
    }
   ],
   "source": [
    "print(np.rad2deg(radios_angulos_1[0,1]))"
   ]
  },
  {
   "cell_type": "code",
   "execution_count": null,
   "metadata": {},
   "outputs": [
    {
     "data": {
      "text/plain": [
       "array([72.71261415])"
      ]
     },
     "execution_count": 38,
     "metadata": {},
     "output_type": "execute_result"
    }
   ],
   "source": [
    "np.rad2deg(angle_1)"
   ]
  },
  {
   "cell_type": "code",
   "execution_count": null,
   "metadata": {},
   "outputs": [
    {
     "data": {
      "text/plain": [
       "array([305.5688757])"
      ]
     },
     "execution_count": 29,
     "metadata": {},
     "output_type": "execute_result"
    }
   ],
   "source": [
    "# calculo subtangentes\n",
    "subtangentes = st_vec(radios_angulos_1)\n",
    "subtangentes"
   ]
  },
  {
   "cell_type": "code",
   "execution_count": null,
   "metadata": {},
   "outputs": [
    {
     "data": {
      "text/plain": [
       "array([[305.5688757 ,   1.70205389]])"
      ]
     },
     "execution_count": 32,
     "metadata": {},
     "output_type": "execute_result"
    }
   ],
   "source": [
    "diag_vec(radios_angulos_1)"
   ]
  },
  {
   "cell_type": "code",
   "execution_count": null,
   "metadata": {},
   "outputs": [
    {
     "data": {
      "text/plain": [
       "array([18980.681     , 19436.62719489])"
      ]
     },
     "execution_count": 46,
     "metadata": {},
     "output_type": "execute_result"
    }
   ],
   "source": [
    "pc1 = 18_980.681\n",
    "cotas_1 = p_total(radios_angulos_1, ci=pc1)\n",
    "cotas_1"
   ]
  },
  {
   "cell_type": "code",
   "execution_count": null,
   "metadata": {},
   "outputs": [
    {
     "name": "stdout",
     "output_type": "stream",
     "text": [
      "[72.71261415]\n"
     ]
    }
   ],
   "source": [
    "print(np.rad2deg(angle_1))"
   ]
  },
  {
   "cell_type": "code",
   "execution_count": null,
   "metadata": {},
   "outputs": [
    {
     "data": {
      "text/plain": [
       "array([[98.979     ,  1.49928764]])"
      ]
     },
     "execution_count": 76,
     "metadata": {},
     "output_type": "execute_result"
    }
   ],
   "source": [
    "# Datos curva 2\n",
    "rumbo = np.deg2rad(76.80976)\n",
    "angle_temp2 = angle_1 + pi_2 - rumbo\n",
    "radios_angulos_2 = np.array(\n",
    "    [\n",
    "        ( 98.979, float(angle_temp2))\n",
    "    ]\n",
    ")\n",
    "radios_angulos_2"
   ]
  },
  {
   "cell_type": "code",
   "execution_count": null,
   "metadata": {},
   "outputs": [
    {
     "name": "stdout",
     "output_type": "stream",
     "text": [
      "85.90285415111371\n"
     ]
    }
   ],
   "source": [
    "print(np.rad2deg(radios_angulos_2[0,1]))"
   ]
  },
  {
   "cell_type": "code",
   "execution_count": null,
   "metadata": {},
   "outputs": [
    {
     "data": {
      "text/plain": [
       "array([  0.       , 148.3979915])"
      ]
     },
     "execution_count": 80,
     "metadata": {},
     "output_type": "execute_result"
    }
   ],
   "source": [
    "cotas_2 = p_total(radios_angulos_2, ci=0)\n",
    "cotas_2"
   ]
  },
  {
   "cell_type": "code",
   "execution_count": null,
   "metadata": {},
   "outputs": [
    {
     "data": {
      "text/plain": [
       "array([19996.62719489, 20145.02518638])"
      ]
     },
     "execution_count": 48,
     "metadata": {},
     "output_type": "execute_result"
    }
   ],
   "source": [
    "cota_conexion = cotas_1[-1] + 560# diferencia_pitagorica(p1)\n",
    "cotas_2 = p_total(radios_angulos_2, ci=cota_conexion)\n",
    "cotas_2"
   ]
  },
  {
   "cell_type": "code",
   "execution_count": null,
   "metadata": {},
   "outputs": [],
   "source": [
    "def coor(p_init, length, azimut):\n",
    "    return p_init + length*np.array([np.sin(azimut), np.cos(azimut)])"
   ]
  },
  {
   "cell_type": "code",
   "execution_count": null,
   "metadata": {},
   "outputs": [
    {
     "data": {
      "text/plain": [
       "array([ 893709.62910918, 2458025.20969823])"
      ]
     },
     "execution_count": 60,
     "metadata": {},
     "output_type": "execute_result"
    }
   ],
   "source": [
    "Az_left = np.pi + Az_init\n",
    "len_left = float(st_vec(radios_angulos_1))\n",
    "pc1_coor = coor(pi1, len_left, Az_left)\n",
    "pc1_coor"
   ]
  },
  {
   "cell_type": "code",
   "execution_count": null,
   "metadata": {},
   "outputs": [
    {
     "data": {
      "text/plain": [
       "array([18980.681     , 19436.62719489, 19996.62719489, 20145.02518638])"
      ]
     },
     "execution_count": 69,
     "metadata": {},
     "output_type": "execute_result"
    }
   ],
   "source": [
    "cotas = np.stack((cotas_1, cotas_2), axis=0).ravel()\n",
    "cotas"
   ]
  },
  {
   "cell_type": "code",
   "execution_count": null,
   "metadata": {},
   "outputs": [
    {
     "data": {
      "text/plain": [
       "357037.7348152433"
      ]
     },
     "execution_count": 61,
     "metadata": {},
     "output_type": "execute_result"
    }
   ],
   "source": [
    "diferencia_pitagorica(pi1, pi2)"
   ]
  },
  {
   "cell_type": "code",
   "execution_count": null,
   "metadata": {},
   "outputs": [],
   "source": [
    "pt1_coor = pc1_coor(pc1_coor, , Az_init - radios_angulos_1[0,1] / 2 )"
   ]
  },
  {
   "cell_type": "code",
   "execution_count": null,
   "metadata": {},
   "outputs": [
    {
     "data": {
      "text/plain": [
       "array([[ 999967.81418422, 2563877.81418422],\n",
       "       [1234516.25458986, 2798426.25458986]])"
      ]
     },
     "execution_count": 63,
     "metadata": {},
     "output_type": "execute_result"
    }
   ],
   "source": [
    "len_right = float(st_vec(radios_angulos_2))\n",
    "pc2_coor = coor(pt1_coor, diferencia_pitagorica(pi1, pi2) - len_left - len_right, az_rect)\n",
    "pc2_coor"
   ]
  }
 ],
 "metadata": {
  "kernelspec": {
   "display_name": "Python 3.10.6 ('ds')",
   "language": "python",
   "name": "python3"
  },
  "language_info": {
   "codemirror_mode": {
    "name": "ipython",
    "version": 3
   },
   "file_extension": ".py",
   "mimetype": "text/x-python",
   "name": "python",
   "nbconvert_exporter": "python",
   "pygments_lexer": "ipython3",
   "version": "3.10.6"
  },
  "orig_nbformat": 4,
  "vscode": {
   "interpreter": {
    "hash": "71dda1f36ff01dd8280b241c9bbd2200903794e3fcef25f2dfa7d2687b44f136"
   }
  }
 },
 "nbformat": 4,
 "nbformat_minor": 2
}
