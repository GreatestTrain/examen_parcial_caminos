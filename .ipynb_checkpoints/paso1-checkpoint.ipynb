{
 "cells": [
  {
   "cell_type": "code",
   "execution_count": 27,
   "metadata": {},
   "outputs": [
    {
     "name": "stdout",
     "output_type": "stream",
     "text": [
      "The autoreload extension is already loaded. To reload it, use:\n",
      "  %reload_ext autoreload\n"
     ]
    }
   ],
   "source": [
    "%load_ext autoreload\n",
    "%autoreload 2"
   ]
  },
  {
   "cell_type": "code",
   "execution_count": 28,
   "metadata": {},
   "outputs": [],
   "source": [
    "from solvers.analisis import *\n",
    "import numpy as np"
   ]
  },
  {
   "cell_type": "markdown",
   "metadata": {},
   "source": [
    "# Análisis\n",
    "---"
   ]
  },
  {
   "cell_type": "markdown",
   "metadata": {},
   "source": [
    "## Datos"
   ]
  },
  {
   "cell_type": "code",
   "execution_count": 54,
   "metadata": {},
   "outputs": [],
   "source": [
    "v_d = 78.898\n",
    "e_max = 0\n",
    "i = 0.09"
   ]
  },
  {
   "cell_type": "markdown",
   "metadata": {},
   "source": [
    "## $F_{max}$"
   ]
  },
  {
   "cell_type": "code",
   "execution_count": 58,
   "metadata": {},
   "outputs": [
    {
     "data": {
      "text/latex": [
       "$ f_{max} = 0.2 - \\frac{ V_d }{ 1250 } $"
      ]
     },
     "metadata": {},
     "output_type": "display_data"
    },
    {
     "data": {
      "text/latex": [
       "$ f_{max} = 0.2 - \\frac{ 78.898 }{ 1250 } \\\\ f_{max} = 0.137 $"
      ]
     },
     "metadata": {},
     "output_type": "display_data"
    }
   ],
   "source": [
    "f_max = f_max_solver(velocidad=v_d, verbose=2)"
   ]
  },
  {
   "cell_type": "code",
   "execution_count": 31,
   "metadata": {},
   "outputs": [],
   "source": [
    "# f_max = 0.01262"
   ]
  },
  {
   "cell_type": "markdown",
   "metadata": {},
   "source": [
    "## $R_{min}$"
   ]
  },
  {
   "cell_type": "code",
   "execution_count": 32,
   "metadata": {},
   "outputs": [
    {
     "data": {
      "text/latex": [
       "$ R_{min} = \\frac{ V_d^2 }{ 127 ( e_{max} + f_{max} ) } $"
      ]
     },
     "metadata": {},
     "output_type": "display_data"
    },
    {
     "data": {
      "text/latex": [
       "$ R_{min} = \\frac{ 78.898^2 }{ 127 ( 0 + 0.137 ) } \\\\ R_{min} = 358.083 $"
      ]
     },
     "metadata": {},
     "output_type": "display_data"
    }
   ],
   "source": [
    "r_min = r_min_solver(velocidad=v_d, e_max=e_max, f_max=f_max, verbose=2)"
   ]
  },
  {
   "cell_type": "markdown",
   "metadata": {},
   "source": [
    "# Distancia de parada\n",
    "---"
   ]
  },
  {
   "cell_type": "markdown",
   "metadata": {},
   "source": [
    "## Distancia de parado $(D_p)$"
   ]
  },
  {
   "cell_type": "code",
   "execution_count": 57,
   "metadata": {},
   "outputs": [
    {
     "data": {
      "text/latex": [
       "$ D_p = \\frac{ V_d \\cdot t_p }{ 3.6 } + \\frac{ V_d^2 }{ 254 (f_{max} \\pm i) } $"
      ]
     },
     "metadata": {},
     "output_type": "display_data"
    },
    {
     "data": {
      "text/latex": [
       "$ D_p = \\frac{ 78.898 \\cdot 2.5 }{ 3.6 } + \\frac{ 78.898^2 }{ 254 ( 0.137 \\pm 0.09) } \\\\ D_p = 162.809 $"
      ]
     },
     "metadata": {},
     "output_type": "display_data"
    },
    {
     "data": {
      "text/latex": [
       "$ D_p = \\frac{ 78.898 \\cdot 2.5 }{ 3.6 } + \\frac{ 78.898^2 }{ 254 ( 0.137 \\pm -0.09) } \\\\ D_p = 577.542 $"
      ]
     },
     "metadata": {},
     "output_type": "display_data"
    },
    {
     "name": "stdout",
     "output_type": "stream",
     "text": [
      "740.3514410938944\n"
     ]
    }
   ],
   "source": [
    "Dp1 = distancia_parado_solver(velocidad=v_d, f_max=f_max, i=i, tiempo_de_percepcion=2.5, verbose=2)\n",
    "Dp2 = distancia_parado_solver(velocidad=v_d, f_max=f_max, i=-i, tiempo_de_percepcion=2.5, verbose=True)\n",
    "Dp = np.sum(np.abs((Dp1, Dp2)))\n",
    "print(Dp)"
   ]
  },
  {
   "cell_type": "markdown",
   "metadata": {},
   "source": [
    "## Comprobación"
   ]
  },
  {
   "cell_type": "code",
   "execution_count": 45,
   "metadata": {},
   "outputs": [
    {
     "data": {
      "text/latex": [
       "$ l_{{min}} = 1.39 V = {round(l_min, precision)} $"
      ]
     },
     "metadata": {},
     "output_type": "display_data"
    },
    {
     "data": {
      "text/latex": [
       "$ l_{max} = 16.70 V = 1324.945 $"
      ]
     },
     "metadata": {},
     "output_type": "display_data"
    },
    {
     "data": {
      "text/latex": [
       "$ 110.28 < 740.351 < 1324.945 $"
      ]
     },
     "metadata": {},
     "output_type": "display_data"
    },
    {
     "data": {
      "text/latex": [
       "$ \\textbf{ \\text{Si cumple!} }$"
      ]
     },
     "metadata": {},
     "output_type": "display_data"
    }
   ],
   "source": [
    "l_min, l_max, cumple = lll_solver(velocidad=v_d, shape=\"s\", check_for=Dp, verbose=True)"
   ]
  },
  {
   "cell_type": "code",
   "execution_count": 35,
   "metadata": {},
   "outputs": [],
   "source": [
    "if not cumple:\n",
    "    raise Exception(\"No cumple con las condiciones.\")"
   ]
  },
  {
   "cell_type": "markdown",
   "metadata": {},
   "source": [
    "# Distancia de adelantamiento\n",
    "---"
   ]
  },
  {
   "cell_type": "markdown",
   "metadata": {},
   "source": [
    "## Datos"
   ]
  },
  {
   "cell_type": "code",
   "execution_count": 49,
   "metadata": {},
   "outputs": [],
   "source": [
    "# \n",
    "# v_d1 = 79.338 # <- volver a seleccionar velocidad\n",
    "# tabla 205.02\n",
    "t_1 = 4 # <- tiempo de maniobra (vehiculo que adelanta) (tabla)\n",
    "t_2 = 10 # <- tiempo empleado por el vehículo para volver a su carril (tabla)\n",
    "a = 2.3 # <- deaceleracion en m/s^2 (tabla)\n",
    "m = 15 # <- valor estatico\n",
    "selection_3 = 'min'"
   ]
  },
  {
   "cell_type": "code",
   "execution_count": 50,
   "metadata": {},
   "outputs": [
    {
     "data": {
      "text/latex": [
       "$ D_1 = 0.278 \\times 4 \\left(78.898 - 15 + \\frac{ 2.3 \\cdot 4 }{ 2 } \\right) \\\\ D_1 = 76.17$"
      ]
     },
     "metadata": {},
     "output_type": "display_data"
    },
    {
     "data": {
      "text/latex": [
       "$ D_2 = 0.278 \\times 78.898 \\times 10 \\\\ D_2 = 219.336 $"
      ]
     },
     "metadata": {},
     "output_type": "display_data"
    },
    {
     "data": {
      "text/latex": [
       "$ D_3 \\ \\text{entre 30 y 90 m}  $"
      ]
     },
     "metadata": {},
     "output_type": "display_data"
    },
    {
     "data": {
      "text/latex": [
       "$ D_3 = 30 $"
      ]
     },
     "metadata": {},
     "output_type": "display_data"
    },
    {
     "data": {
      "text/latex": [
       "$ D_4 = \\frac{2}{3} D_2 $"
      ]
     },
     "metadata": {},
     "output_type": "display_data"
    },
    {
     "data": {
      "text/latex": [
       "$ D_4 = 146.224 $"
      ]
     },
     "metadata": {},
     "output_type": "display_data"
    },
    {
     "data": {
      "text/latex": [
       "$ D_a = D_1 + D_2 + D_3 + D_4 $"
      ]
     },
     "metadata": {},
     "output_type": "display_data"
    },
    {
     "data": {
      "text/latex": [
       "$ D_a = 471.731 $"
      ]
     },
     "metadata": {},
     "output_type": "display_data"
    },
    {
     "data": {
      "text/plain": [
       "471.7305093333333"
      ]
     },
     "execution_count": 50,
     "metadata": {},
     "output_type": "execute_result"
    }
   ],
   "source": [
    "Da = da_solver(velocidad=v_d, t_1=t_1, t_2=t_2, a=a, m=m, selection_3=selection_3)\n",
    "Da"
   ]
  },
  {
   "cell_type": "code",
   "execution_count": 51,
   "metadata": {},
   "outputs": [
    {
     "data": {
      "text/latex": [
       "$ D_p > D_a ??? $"
      ]
     },
     "metadata": {},
     "output_type": "display_data"
    },
    {
     "data": {
      "text/latex": [
       "$ \\text{ True } $"
      ]
     },
     "metadata": {},
     "output_type": "display_data"
    }
   ],
   "source": [
    "cumple = check_dp_da(dp=Dp, da=Da)\n",
    "if not cumple:\n",
    "    raise Exception(\"No cumple con las condiciones\")"
   ]
  },
  {
   "cell_type": "code",
   "execution_count": 39,
   "metadata": {},
   "outputs": [],
   "source": [
    "D_final = 750 # <- definido por el usuario en base al resultado de D_a"
   ]
  }
 ],
 "metadata": {
  "kernelspec": {
   "display_name": "Python 3.10.6 ('ds')",
   "language": "python",
   "name": "python3"
  },
  "language_info": {
   "codemirror_mode": {
    "name": "ipython",
    "version": 3
   },
   "file_extension": ".py",
   "mimetype": "text/x-python",
   "name": "python",
   "nbconvert_exporter": "python",
   "pygments_lexer": "ipython3",
   "version": "3.10.6"
  },
  "orig_nbformat": 4,
  "vscode": {
   "interpreter": {
    "hash": "71dda1f36ff01dd8280b241c9bbd2200903794e3fcef25f2dfa7d2687b44f136"
   }
  }
 },
 "nbformat": 4,
 "nbformat_minor": 2
}
