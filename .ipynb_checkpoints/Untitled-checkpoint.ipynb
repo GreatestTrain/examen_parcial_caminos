{
 "cells": [
  {
   "cell_type": "code",
   "execution_count": 1,
   "id": "96ec0c19",
   "metadata": {},
   "outputs": [
    {
     "name": "stdout",
     "output_type": "stream",
     "text": [
      "Hello from python\n"
     ]
    }
   ],
   "source": [
    "print(\"Hello from python\")"
   ]
  },
  {
   "cell_type": "code",
   "execution_count": 2,
   "id": "d80a296e",
   "metadata": {},
   "outputs": [
    {
     "name": "stdout",
     "output_type": "stream",
     "text": [
      "A sum of two numbers\n",
      "14\n"
     ]
    }
   ],
   "source": [
    "print(\"A sum of two numbers\")\n",
    "print(5 + 9)"
   ]
  },
  {
   "cell_type": "code",
   "execution_count": 4,
   "id": "c730cb8b",
   "metadata": {},
   "outputs": [],
   "source": [
    "import matplotlib.pyplot as plt\n",
    "import numpy as np"
   ]
  },
  {
   "cell_type": "code",
   "execution_count": 33,
   "id": "83d6ae8d",
   "metadata": {},
   "outputs": [],
   "source": [
    "values2 = np.random.normal(loc=54, scale=5,size=(1,50))\n",
    "values1 = np.arange(0,50)"
   ]
  },
  {
   "cell_type": "code",
   "execution_count": null,
   "id": "90853598",
   "metadata": {},
   "outputs": [],
   "source": [
    "plt.plot(values1, values2)"
   ]
  }
 ],
 "metadata": {
  "kernelspec": {
   "display_name": "Python 3 (ipykernel)",
   "language": "python",
   "name": "python3"
  },
  "language_info": {
   "codemirror_mode": {
    "name": "ipython",
    "version": 3
   },
   "file_extension": ".py",
   "mimetype": "text/x-python",
   "name": "python",
   "nbconvert_exporter": "python",
   "pygments_lexer": "ipython3",
   "version": "3.10.6"
  }
 },
 "nbformat": 4,
 "nbformat_minor": 5
}
